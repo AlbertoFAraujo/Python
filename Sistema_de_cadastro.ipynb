{
 "cells": [
  {
   "cell_type": "markdown",
   "id": "b5e612cc",
   "metadata": {},
   "source": [
    "***Sistema de cadastro de itens***"
   ]
  },
  {
   "cell_type": "code",
   "execution_count": 25,
   "id": "e7ff9f0a",
   "metadata": {},
   "outputs": [
    {
     "name": "stdout",
     "output_type": "stream",
     "text": [
      "*************** Bem vindo ao sistema básico de cadastro de itens ***************\n",
      "\n",
      "Obs >>> As opções abaixo devem ser digitadas corretamente!\n",
      "O sistema aceita letras maiúsculas ou minúsculas.\n",
      "\n",
      "Informe o 1° item do estoque: │S = Sair│ CAMA\n",
      "Informe o 2° item do estoque: │S = Sair│ SOFÁ\n",
      "Informe o 3° item do estoque: │S = Sair│ TAPETE\n",
      "Informe o 4° item do estoque: │S = Sair│ S\n",
      "\n",
      "Escolha uma opção: [A = adicionar │ E = Excluir │ S = Substituir] >>> A\n",
      "Informar o produto que deseja adicionar? TV\n",
      "\n"
     ]
    }
   ],
   "source": [
    "print('*' * 15,'Bem vindo ao sistema básico de cadastro de itens','*' * 15)\n",
    "print('')\n",
    "print('Obs >>> As opções abaixo devem ser digitadas corretamente!')\n",
    "print('O sistema aceita letras maiúsculas ou minúsculas.')\n",
    "print('')\n",
    "\n",
    "est = []\n",
    "contador = 1\n",
    "\n",
    "#Demonstra a base separada por │ e sem colchetes.\n",
    "base_estoque = '{}'.format('│'.join(est))\n",
    "\n",
    "while True:\n",
    "    \n",
    "    estoque = input('Informe o {}° item do estoque: │S = Sair│ '.format(contador)).capitalize()\n",
    "    \n",
    "    if estoque and estoque != 'S' and estoque !='s':\n",
    "        estoque = estoque.strip()\n",
    "        est.append(estoque)\n",
    "        contador += 1\n",
    "    else:\n",
    "        break\n",
    "        \n",
    "\n",
    "#Programa que solicite se a pessoa quer incluir ou excluir o item\n",
    "print('')\n",
    "var1 = input('Escolha uma opção: [A = adicionar │ E = Excluir │ S = Substituir] >>> ')\n",
    "\n",
    "\n",
    "#Restinge a entrada do programa em sempre escrever algo e conforme os parametros solicitados\n",
    "if var1 and var1.casefold() == 'a' or var1.casefold() == 'e' or var1.casefold() == 's':\n",
    "    \n",
    "    #retira os espaços em branco do input\n",
    "    var1 = var1.strip()\n",
    "\n",
    "    #transforma o input em letra minúsculas\n",
    "    var1 = var1.casefold()\n",
    "    \n",
    "    \n",
    "    #caso o input for para 'adicionar'\n",
    "    if var1 == 'a':\n",
    "        novo_item = input('Informar o produto que deseja adicionar? ')\n",
    "        \n",
    "        #verifica a condição se o item a ser adicionado já está na lista\n",
    "        if novo_item in est:\n",
    "            print('O item ja consta na base do estoque!')\n",
    "            print(base_estoque)\n",
    "            \n",
    "        #caso não esteja, iremos adicionar    \n",
    "        else:\n",
    "            novo_item = novo_item.strip()\n",
    "            novo_item = novo_item.casefold()\n",
    "            est.append(novo_item)\n",
    "            print(base_estoque)\n",
    "            \n",
    "            \n",
    "    #Se o input for para excluir algum dos itens\n",
    "    elif var1 == 'e':\n",
    "        print(est)\n",
    "        item_excluido = input('Informar o produto a ser excluído: ').casefold()\n",
    "        \n",
    "        \n",
    "        #verifica se o item consta de fato na lista\n",
    "        if item_excluido in est:\n",
    "            print(f'O item {item_excluido} será excluído do estoque!')\n",
    "            est.remove(item_excluido)\n",
    "            print('Seu estoque consta os seguintes itens atualizado: {}'.format('│'.join(est)))\n",
    "            \n",
    "        #caso não localize, o usuário deverá informar corretamente o input    \n",
    "        else:\n",
    "            print('Não consta nenhum produto com este nome!')\n",
    "            \n",
    "    else:\n",
    "        print(est)\n",
    "        item_sub = input('Informar qual item do estoque deverá ser substituído: ')\n",
    "        item_sub = item_sub.casefold()\n",
    "        item_sub = item_sub.strip()\n",
    "        \n",
    "        item_subnovo = input(f'Informar qual o novo produto a ser substituido pelo {item_sub}? ')\n",
    "        item_subnovo = item_subnovo.casefold()\n",
    "        item_subnovo = item_subnovo.strip()\n",
    "        \n",
    "        \n",
    "        if item_sub in est:\n",
    "            i = est.index(item_sub)\n",
    "            est[i] = item_subnovo\n",
    "            print('Seu estoque contem os itens:{}'.format(' │ '.join(est)))\n",
    "            \n",
    "else:\n",
    "    print('Informar os parametros corretamente!')"
   ]
  },
  {
   "cell_type": "code",
   "execution_count": null,
   "id": "ee26c2f1",
   "metadata": {},
   "outputs": [],
   "source": []
  },
  {
   "cell_type": "code",
   "execution_count": null,
   "id": "712c75fe",
   "metadata": {},
   "outputs": [],
   "source": []
  },
  {
   "cell_type": "code",
   "execution_count": null,
   "id": "e62ae7e4",
   "metadata": {},
   "outputs": [],
   "source": []
  },
  {
   "cell_type": "code",
   "execution_count": null,
   "id": "aea496a7",
   "metadata": {},
   "outputs": [],
   "source": []
  },
  {
   "cell_type": "code",
   "execution_count": null,
   "id": "f8ff159b",
   "metadata": {},
   "outputs": [],
   "source": []
  },
  {
   "cell_type": "code",
   "execution_count": null,
   "id": "3b0da65c",
   "metadata": {},
   "outputs": [],
   "source": []
  },
  {
   "cell_type": "code",
   "execution_count": null,
   "id": "bf115681",
   "metadata": {},
   "outputs": [],
   "source": []
  }
 ],
 "metadata": {
  "kernelspec": {
   "display_name": "Python 3 (ipykernel)",
   "language": "python",
   "name": "python3"
  },
  "language_info": {
   "codemirror_mode": {
    "name": "ipython",
    "version": 3
   },
   "file_extension": ".py",
   "mimetype": "text/x-python",
   "name": "python",
   "nbconvert_exporter": "python",
   "pygments_lexer": "ipython3",
   "version": "3.9.12"
  }
 },
 "nbformat": 4,
 "nbformat_minor": 5
}
