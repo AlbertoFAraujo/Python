{
 "cells": [
  {
   "cell_type": "markdown",
   "id": "b5e612cc",
   "metadata": {},
   "source": [
    "***Sistema de cadastro de itens***"
   ]
  },
  {
   "cell_type": "code",
   "execution_count": 4,
   "id": "e7ff9f0a",
   "metadata": {},
   "outputs": [
    {
     "name": "stdout",
     "output_type": "stream",
     "text": [
      "*************** Bem vindo ao sistema básico de cadastro de itens ***************\n",
      "\n",
      "Obs >>> As opções abaixo devem ser digitadas corretamente!\n",
      "O sistema aceita letras maiúsculas ou minúsculas.\n",
      "O que vc deseja? [A = adicionar │ E = Excluir │ S = Substituir] A\n",
      "Informar o produto que deseja adicionar? Corneta\n",
      "['teclado', 'mouse', 'monitor', 'notebook', 'corneta']\n"
     ]
    }
   ],
   "source": [
    "print('*' * 15,'Bem vindo ao sistema básico de cadastro de itens','*' * 15)\n",
    "print('')\n",
    "print('Obs >>> As opções abaixo devem ser digitadas corretamente!')\n",
    "print('O sistema aceita letras maiúsculas ou minúsculas.')\n",
    "\n",
    "est = ['teclado', 'mouse','monitor','notebook']\n",
    "valores = [150, 75, 1500, 5000]\n",
    "\n",
    "#Programa que solicite se a pessoa quer incluir ou excluir o item\n",
    "\n",
    "var1 = input('O que vc deseja? [A = adicionar │ E = Excluir │ S = Substituir] ')\n",
    "\n",
    "\n",
    "#Restinge a entrada do programa em sempre escrever algo e conforme os parametros solicitados\n",
    "if var1 and var1.casefold() == 'a' or var1.casefold() == 'e' or var1.casefold() == 's':\n",
    "    \n",
    "    #retira os espaços em branco do input\n",
    "    var1 = var1.strip()\n",
    "\n",
    "    #transforma o input em letra minúsculas\n",
    "    var1 = var1.casefold()\n",
    "    \n",
    "    \n",
    "    #caso o input for para 'adicionar'\n",
    "    if var1 == 'a':\n",
    "        novo_item = input('Informar o produto que deseja adicionar? ')\n",
    "        \n",
    "        #verifica a condição se o item a ser adicionado já está na lista\n",
    "        if novo_item in est:\n",
    "            print('O item ja consta na base do estoque!')\n",
    "            print(est)\n",
    "            \n",
    "        #caso não esteja, iremos adicionar    \n",
    "        else:\n",
    "            novo_item = novo_item.strip()\n",
    "            novo_item = novo_item.casefold()\n",
    "            est.append(novo_item)\n",
    "            print(est)\n",
    "            \n",
    "            \n",
    "    #Se o input for para excluir algum dos itens\n",
    "    elif var1 == 'e':\n",
    "        print(est)\n",
    "        item_excluido = input('Informar o produto a ser excluído: ').casefold()\n",
    "        \n",
    "        \n",
    "        #verifica se o item consta de fato na lista\n",
    "        if item_excluido in est:\n",
    "            print(f'O item {item_excluido} será excluído do estoque!')\n",
    "            est.remove(item_excluido)\n",
    "            print(f'Seu estoque consta os seguintes itens atualizado: {est}')\n",
    "            \n",
    "        #caso não localize, o usuário deverá informar corretamente o input    \n",
    "        else:\n",
    "            print('Não consta nenhum produto com este nome!')\n",
    "            \n",
    "    else:\n",
    "        print(est)\n",
    "        item_sub = input('Informar qual item do estoque deverá ser substituído: ')\n",
    "        item_sub = item_sub.casefold()\n",
    "        item_sub = item_sub.strip()\n",
    "        \n",
    "        item_subnovo = input(f'Informar qual o novo produto a ser substituido pelo {item_sub}? ')\n",
    "        item_subnovo = item_subnovo.casefold()\n",
    "        item_subnovo = item_subnovo.strip()\n",
    "        \n",
    "        \n",
    "        if item_sub in est:\n",
    "            i = est.index(item_sub)\n",
    "            est[i] = item_subnovo\n",
    "            print(f'Seu estoque contem os itens: {est}')\n",
    "            \n",
    "else:\n",
    "    print('Informar os parametros corretamente!')"
   ]
  },
  {
   "cell_type": "code",
   "execution_count": null,
   "id": "bf115681",
   "metadata": {},
   "outputs": [],
   "source": []
  }
 ],
 "metadata": {
  "kernelspec": {
   "display_name": "Python 3 (ipykernel)",
   "language": "python",
   "name": "python3"
  },
  "language_info": {
   "codemirror_mode": {
    "name": "ipython",
    "version": 3
   },
   "file_extension": ".py",
   "mimetype": "text/x-python",
   "name": "python",
   "nbconvert_exporter": "python",
   "pygments_lexer": "ipython3",
   "version": "3.9.12"
  }
 },
 "nbformat": 4,
 "nbformat_minor": 5
}
